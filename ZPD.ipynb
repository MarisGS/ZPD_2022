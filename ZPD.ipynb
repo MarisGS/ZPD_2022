{
 "cells": [
  {
   "cell_type": "markdown",
   "id": "8f0dce5d-1164-448a-af6c-3bfc8f724703",
   "metadata": {},
   "source": [
    "# Enerģijas patēriņa aprēķins"
   ]
  },
  {
   "cell_type": "code",
   "execution_count": 1,
   "id": "9beaed4d-d73c-4c8d-a772-087affe10099",
   "metadata": {},
   "outputs": [
    {
     "name": "stdout",
     "output_type": "stream",
     "text": [
      "7.33628\n",
      "8.606200000000001\n"
     ]
    }
   ],
   "source": [
    "# Degvielu zemākā siltumspēja, MJ/kg\n",
    "\n",
    "Q_lhv_Propane=46.4\n",
    "Q_lhv_Butane=46.75\n",
    "Q_lhv_gasoline=43\n",
    "\n",
    "# Degvielu blīvums, kg/m3\n",
    "\n",
    "ro_LPG=0.532\n",
    "ro_Gasoline=0.74\n",
    "\n",
    "#Degvielu tilpuma patēriņš, L/100km\n",
    "\n",
    "vf_LPG=13.79\n",
    "vf_Gasoline=11.63\n",
    "\n",
    "#Masas patēriņa aprēķins, kg/100km\n",
    "\n",
    "mf_LPG=vf_LPG*ro_LPG\n",
    "mf_Gasoline=vf_Gasoline*ro_Gasoline\n",
    "\n",
    "#Izvada rezultātu uz ekrāna\n",
    "\n",
    "print (mf_LPG)\n",
    "print (mf_Gasoline)"
   ]
  },
  {
   "cell_type": "markdown",
   "id": "0f8a2839-f273-474f-ae59-6d6299cf0a02",
   "metadata": {},
   "source": [
    "Tik tālu apmēram sakrīt ar ZPD iekļautajiem rezultātiem.\n",
    "\n",
    "Tālāk aprēķinā pieņem, ka šķidrai gāzei blīvums Prop un But līdzīgi, propocijās vadās pēc sertifikāta:\n",
    "Propāns 59%, Butāns 41%\n",
    "\n",
    "Formula enerģijas patēriņā aprēķinam (MJ/km):\n",
    "\n",
    "$$ Energy = \\frac{Q_{lhv}\\cdot m_f}{100} $$\n",
    "\n",
    "kur\n",
    "\n",
    "$\\qquad$ $Q_{lhv}$ - zemākā siltumspēja, MJ/kg,\n",
    "\n",
    "$\\qquad$ $m_f$ - degvielas masas patēriņš, kg/100 km.\n",
    "    "
   ]
  },
  {
   "cell_type": "code",
   "execution_count": 2,
   "id": "67b5bdc5-4e02-40f5-ac3a-5df22cf578bc",
   "metadata": {},
   "outputs": [
    {
     "name": "stdout",
     "output_type": "stream",
     "text": [
      "3.4145614817999994\n",
      "3.7006660000000005\n"
     ]
    }
   ],
   "source": [
    "#Enerģijas patēriņa aprēķins\n",
    "\n",
    "Ratio_Propane=0.59\n",
    "Ratio_Butane=0.41\n",
    "\n",
    "Energy_LPG=(Q_lhv_Propane*Ratio_Propane+Q_lhv_Butane*Ratio_Butane)*mf_LPG/100\n",
    "Energy_Gasoline=Q_lhv_gasoline*mf_Gasoline/100\n",
    "\n",
    "#Izvada rezultātu uz ekrāna\n",
    "\n",
    "print (Energy_LPG)\n",
    "print (Energy_Gasoline)\n"
   ]
  },
  {
   "cell_type": "code",
   "execution_count": null,
   "id": "c4685022-ff26-4747-b0f0-cf54551736a8",
   "metadata": {},
   "outputs": [],
   "source": []
  }
 ],
 "metadata": {
  "kernelspec": {
   "display_name": "Python 3 (ipykernel)",
   "language": "python",
   "name": "python3"
  },
  "language_info": {
   "codemirror_mode": {
    "name": "ipython",
    "version": 3
   },
   "file_extension": ".py",
   "mimetype": "text/x-python",
   "name": "python",
   "nbconvert_exporter": "python",
   "pygments_lexer": "ipython3",
   "version": "3.8.5"
  }
 },
 "nbformat": 4,
 "nbformat_minor": 5
}
